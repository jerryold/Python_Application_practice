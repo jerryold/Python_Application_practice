{
 "cells": [
  {
   "cell_type": "code",
   "execution_count": null,
   "metadata": {
    "collapsed": false
   },
   "outputs": [],
   "source": [
    "import random\n",
    "foods=['自助餐', '公館夜市', '麵包', '丼太郎', '樂活', '八方雲集', '回家吃自己']\n",
    "drinks=['阿水茶鋪','好了啦','木瓜牛奶','青蛙撞奶','咖啡','白開水','醬油']\n",
    "weekday=['Monday','Tuesday','Wednesday','Thursday','Friday','Saturday','Sunday']\n",
    "if input().capitalize() in weekday:\n",
    "    print(foods[random.choice(range(0,6))],'配',drinks[random.choice(range(0,6))])\n",
    "else:\n",
    "     print(\"你打錯囉\")\n"
   ]
  },
  {
   "cell_type": "code",
   "execution_count": null,
   "metadata": {
    "collapsed": false
   },
   "outputs": [],
   "source": [
    "import random\n",
    "Food=['自助餐', '公館夜市', '麵包', '丼太郎', '樂活', '四海遊龍', '八方雲集']\n",
    "\n",
    "result = []\n",
    "\n",
    "while True:\n",
    "    user_input = input('請輸入你要多少天的午餐餐單: ')\n",
    "    \n",
    "    try:\n",
    "        int(user_input)\n",
    "    except:\n",
    "        print('我很笨, 但我還是知道你輸入的是不是一個數字:/\\n')\n",
    "        continue\n",
    "    \n",
    "    if int(user_input) <= 30:\n",
    "        break\n",
    "    elif int(user_input) > 30:\n",
    "        print('你確定你會依照這餐單超過一個月嗎? 輸入一個少於30天的數字會較好...\\n')\n",
    "        continue\n",
    "\n",
    "while True:\n",
    "    if len(result) < int(user_input):\n",
    "        result.append(random.choice(Food))\n",
    "    else:\n",
    "        i = 0\n",
    "        while i <= len(result)-1:\n",
    "            if result[i] == 0:\n",
    "                i += 1\n",
    "                continue\n",
    "            if result[i] == result[i-1]:\n",
    "                result[i] = random.choice(Food)\n",
    "            else:\n",
    "                i += 1\n",
    "        break\n",
    "\n",
    "counter = 1        \n",
    "for i in result:\n",
    "    print('第' + str(counter) + '天' + ': ' + str(i))\n",
    "    counter += 1"
   ]
  },
  {
   "cell_type": "code",
   "execution_count": 1,
   "metadata": {
    "collapsed": false
   },
   "outputs": [
    {
     "name": "stdout",
     "output_type": "stream",
     "text": [
      "請輸入你要多少天的午餐餐單: 5\n",
      "第1天: 公館夜市\n",
      "第2天: 麵包\n",
      "第3天: 樂活\n",
      "第4天: 麵包\n",
      "第5天: 丼太郎\n"
     ]
    }
   ],
   "source": [
    "import random\n",
    "Food=['自助餐', '公館夜市', '麵包', '丼太郎', '樂活', '四海遊龍', '八方雲集']\n",
    "\n",
    "result = []\n",
    "\n",
    "#檢查輸入\n",
    "while True:\n",
    "    # 由於input()輸入的是str資料, 在這裡會嘗試將使用者的輸入換成int類型, 再放進meulNum內\n",
    "    try:\n",
    "        meulNum = int(input('請輸入你要多少天的午餐餐單: '))\n",
    "    # 當輸入的資料不能轉化為int類型時, 即int()失敗時, print出以下字串:\n",
    "    except:\n",
    "        print('我很笨, 但我還是知道你輸入的是不是一個數字:/\\n')\n",
    "        continue\n",
    "    \n",
    "    if meulNum <= 30:\n",
    "        break\n",
    "    elif meulNum > 30:\n",
    "        print('你確定你會依照這餐單超過一個月嗎? 輸入一個少於30天的數字會較好...\\n')\n",
    "        continue\n",
    "\n",
    "while True:\n",
    "    #如果result的長度少於輸入(meulNum)的長度, 就生成一個結果, 並加在list的末尾\n",
    "    if len(result) < meulNum:\n",
    "        result.append(random.choice(Food))\n",
    "    \n",
    "    #如果meulNum是1的時候, print出以下字串, 並中斷while loop\n",
    "    elif meulNum == 1:\n",
    "        print('你只要一天的餐單的話, 有可能連續兩天一樣喔!')\n",
    "        break\n",
    "\n",
    "    else:\n",
    "        # 新增一個i變數, 去計算執行次數\n",
    "        i = 0\n",
    "        \n",
    "        # 當執行次數少於result長度時, 重覆執行以下程式碼 \n",
    "        while i < len(result):\n",
    "            \n",
    "            # 如果result清單內只有一項的時候,就不能判斷是否連續兩天一樣,\n",
    "            # 所以把執行次數加一, 然後跳過後續程式碼\n",
    "            if result[i] == 0:\n",
    "                i += 1\n",
    "                continue\n",
    "            \n",
    "            # 第一次執行這段的情況是:\n",
    "            # 如果result第0項的值與第1項相等, 亦即是連續兩個結果一樣\n",
    "            # 就重新分配新的結果到第0項\n",
    "            # 由於在這個if段落內並沒有為執行次數加一, \n",
    "            # 所以python會一直重新重配, 直至第0及1項不一樣就會跳到else段茖內\n",
    "            # else段落就只是為執行次數加一, 然後又會重新到while loop頂端再執行\n",
    "            if result[i] == result[i-1]:\n",
    "                result[i] = random.choice(Food)\n",
    "            else:\n",
    "                i += 1\n",
    "        break\n",
    "\n",
    "counter = 1        \n",
    "for i in result:\n",
    "    print('第' + str(counter) + '天' + ': ' + str(i))\n",
    "    counter += 1\n"
   ]
  },
  {
   "cell_type": "code",
   "execution_count": null,
   "metadata": {
    "collapsed": true
   },
   "outputs": [],
   "source": []
  }
 ],
 "metadata": {
  "kernelspec": {
   "display_name": "Python 3",
   "language": "python",
   "name": "python3"
  },
  "language_info": {
   "codemirror_mode": {
    "name": "ipython",
    "version": 3
   },
   "file_extension": ".py",
   "mimetype": "text/x-python",
   "name": "python",
   "nbconvert_exporter": "python",
   "pygments_lexer": "ipython3",
   "version": "3.4.3"
  }
 },
 "nbformat": 4,
 "nbformat_minor": 0
}
